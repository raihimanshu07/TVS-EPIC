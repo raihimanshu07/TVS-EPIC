{
 "cells": [
  {
   "cell_type": "code",
   "execution_count": 1,
   "metadata": {},
   "outputs": [],
   "source": [
    "import pandas as pd\n",
    "import numpy as np\n",
    "import re\n",
    "from sklearn.model_selection import train_test_split\n",
    "from sklearn.ensemble import RandomForestClassifier\n",
    "import xgboost as xgb\n",
    "from sklearn.preprocessing import LabelEncoder\n",
    "from sklearn.preprocessing import RobustScaler\n",
    "import datetime as DT \n",
    "from sklearn.metrics import accuracy_score, roc_curve, roc_auc_score, classification_report, f1_score\n",
    "import seaborn as sb"
   ]
  },
  {
   "cell_type": "code",
   "execution_count": 2,
   "metadata": {},
   "outputs": [],
   "source": [
    "data = pd.read_csv(r\"E:\\ETLHIVE Training\\ML Problem\\TVS\\Data.csv\",low_memory=False)"
   ]
  },
  {
   "cell_type": "code",
   "execution_count": 3,
   "metadata": {},
   "outputs": [],
   "source": [
    "#sb.pairplot(data)"
   ]
  },
  {
   "cell_type": "code",
   "execution_count": 4,
   "metadata": {},
   "outputs": [],
   "source": [
    "#Converting DOB to age\n",
    "\n",
    "now = pd.Timestamp('now')\n",
    "data[\"V3\"] = pd.to_datetime(data[\"V3\"])\n",
    "data['V3'] = data['V3'].where(data['V3'] < now, data['V3'] -  np.timedelta64(100, 'Y'))   # 2\n",
    "data['V3'] = (now - data['V3']).astype('<m8[Y]')    # 3"
   ]
  },
  {
   "cell_type": "code",
   "execution_count": 5,
   "metadata": {},
   "outputs": [],
   "source": [
    "def repWhiteSpacesByNull(strValue):\n",
    "    strValue = re.sub(r\"\\W+\",\"\",strValue)\n",
    "    return strValue"
   ]
  },
  {
   "cell_type": "code",
   "execution_count": 6,
   "metadata": {},
   "outputs": [],
   "source": [
    "data[\"V12\"] = data[\"V12\"].astype(\"str\")\n",
    "#data[\"V3\"] = data[\"V3\"].astype(\"str\")\n",
    "data[\"V12\"] = data[\"V12\"].apply(repWhiteSpacesByNull)\n",
    "#tempData[\"V3\"] = tempData[\"V3\"].apply(repWhiteSpacesByNull)"
   ]
  },
  {
   "cell_type": "code",
   "execution_count": 8,
   "metadata": {},
   "outputs": [],
   "source": [
    "X = data[data.columns[~data.columns.isin([\"V12\",\"V24\",\"V14\",\"V1\",\"V3\",\"V32\"])]]\n",
    "Y = data[[\"V32\"]]"
   ]
  },
  {
   "cell_type": "code",
   "execution_count": 9,
   "metadata": {},
   "outputs": [],
   "source": [
    "X = X.apply(LabelEncoder().fit_transform)\n",
    "X = pd.DataFrame(RobustScaler().fit_transform(X))"
   ]
  },
  {
   "cell_type": "code",
   "execution_count": 10,
   "metadata": {},
   "outputs": [],
   "source": [
    "xtrain,xtest,ytrain,ytest = train_test_split(X,Y,test_size = 0.20,random_state = 25)"
   ]
  },
  {
   "cell_type": "code",
   "execution_count": 31,
   "metadata": {},
   "outputs": [
    {
     "name": "stderr",
     "output_type": "stream",
     "text": [
      "E:\\Anconda\\lib\\site-packages\\sklearn\\preprocessing\\label.py:95: DataConversionWarning: A column-vector y was passed when a 1d array was expected. Please change the shape of y to (n_samples, ), for example using ravel().\n",
      "  y = column_or_1d(y, warn=True)\n",
      "E:\\Anconda\\lib\\site-packages\\sklearn\\preprocessing\\label.py:128: DataConversionWarning: A column-vector y was passed when a 1d array was expected. Please change the shape of y to (n_samples, ), for example using ravel().\n",
      "  y = column_or_1d(y, warn=True)\n",
      "E:\\Anconda\\lib\\site-packages\\sklearn\\preprocessing\\label.py:151: DeprecationWarning: The truth value of an empty array is ambiguous. Returning False, but in future this will result in an error. Use `array.size > 0` to check that an array is not empty.\n",
      "  if diff:\n"
     ]
    }
   ],
   "source": [
    "xg_reg = xgb.XGBClassifier(max_depth = 10,objective ='binary:logistic', colsample_bytree = 0.3, learning_rate = 0.05, n_estimators = 100,min_child_weight = 2, gamma = 0.3, subsample = 0.6,scale_pos_weight = 9)\n",
    "model = xg_reg.fit(xtrain,ytrain)\n",
    "pred = model.predict(xtest)\n"
   ]
  },
  {
   "cell_type": "code",
   "execution_count": 35,
   "metadata": {},
   "outputs": [],
   "source": [
    "roc_auc = roc_auc_score(ytest,pred)\n",
    "acc = accuracy_score(ytest,pred)\n",
    "f1_Score = f1_score(ytest,pred,average='weighted')"
   ]
  },
  {
   "cell_type": "code",
   "execution_count": 36,
   "metadata": {},
   "outputs": [
    {
     "name": "stdout",
     "output_type": "stream",
     "text": [
      "ROC_AUC_SCORE:  0.6417406209525204\n",
      "Accuracy Score:  0.8484227268710789\n",
      "F1_Score:  0.868993806496849\n"
     ]
    }
   ],
   "source": [
    "print(\"ROC_AUC_SCORE: \",roc_auc)\n",
    "print(\"Accuracy Score: \",acc)\n",
    "print(\"F1_Score: \",f1_Score)"
   ]
  },
  {
   "cell_type": "code",
   "execution_count": 37,
   "metadata": {},
   "outputs": [
    {
     "name": "stdout",
     "output_type": "stream",
     "text": [
      "             precision    recall  f1-score   support\n",
      "\n",
      "          0       0.95      0.88      0.92     52477\n",
      "          1       0.21      0.40      0.28      4108\n",
      "\n",
      "avg / total       0.90      0.85      0.87     56585\n",
      "\n"
     ]
    }
   ],
   "source": [
    "creport = classification_report(ytest,pred)\n",
    "print(creport)"
   ]
  },
  {
   "cell_type": "code",
   "execution_count": null,
   "metadata": {},
   "outputs": [],
   "source": []
  }
 ],
 "metadata": {
  "kernelspec": {
   "display_name": "Python 3",
   "language": "python",
   "name": "python3"
  },
  "language_info": {
   "codemirror_mode": {
    "name": "ipython",
    "version": 3
   },
   "file_extension": ".py",
   "mimetype": "text/x-python",
   "name": "python",
   "nbconvert_exporter": "python",
   "pygments_lexer": "ipython3",
   "version": "3.7.4"
  }
 },
 "nbformat": 4,
 "nbformat_minor": 2
}
